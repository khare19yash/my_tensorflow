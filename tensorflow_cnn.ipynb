{
 "cells": [
  {
   "cell_type": "code",
   "execution_count": 1,
   "metadata": {},
   "outputs": [
    {
     "name": "stdout",
     "output_type": "stream",
     "text": [
      "Extracting MNIST_data/train-images-idx3-ubyte.gz\n",
      "Extracting MNIST_data/train-labels-idx1-ubyte.gz\n",
      "Extracting MNIST_data/t10k-images-idx3-ubyte.gz\n",
      "Extracting MNIST_data/t10k-labels-idx1-ubyte.gz\n"
     ]
    }
   ],
   "source": [
    "import tensorflow as tf\n",
    "from tensorflow.examples.tutorials.mnist import input_data\n",
    "mnist = input_data.read_data_sets(\"MNIST_data/\",one_hot=True)\n",
    "\n",
    "learning_rate = 0.0001\n",
    "epochs = 10\n",
    "batch_size = 50\n",
    "\n",
    "x = tf.placeholder(tf.float32,[None,784])\n",
    "\n",
    "x_shaped = tf.reshape(x,[-1,28,28,1])\n",
    "y = tf.placeholder(tf.float32, [None,10])\n"
   ]
  },
  {
   "cell_type": "code",
   "execution_count": null,
   "metadata": {
    "collapsed": true
   },
   "outputs": [],
   "source": []
  },
  {
   "cell_type": "code",
   "execution_count": 2,
   "metadata": {
    "collapsed": true
   },
   "outputs": [],
   "source": [
    "def create_new_conv_layer(input_data, num_input_channels, num_filters, filter_shape, pool_shape, name):\n",
    "    conv_filt_shape = [filter_shape[0],filter_shape[1],num_input_channels,num_filters]\n",
    "    \n",
    "    weights = tf.Variable(tf.truncated_normal(conv_filt_shape, stddev=0.03),\n",
    "                         name = name+'_W')\n",
    "    bias = tf.Variable(tf.truncated_normal([num_filters]), name=name+'_b')\n",
    "    \n",
    "    out_layer = tf.nn.conv2d(input_data,weights,[1,1,1,1],padding='SAME')\n",
    "    \n",
    "    out_layer += bias\n",
    "    \n",
    "    out_layer = tf.nn.relu(out_layer)\n",
    "    \n",
    "    ksize = [1,pool_shape[0],pool_shape[1], 1]\n",
    "    strides = [1,2,2,1]\n",
    "    out_layer = tf.nn.max_pool(out_layer,ksize=ksize,strides=strides,\n",
    "                               padding='SAME')\n",
    "    \n",
    "    return out_layer"
   ]
  },
  {
   "cell_type": "code",
   "execution_count": 3,
   "metadata": {
    "collapsed": true
   },
   "outputs": [],
   "source": [
    "layer1 = create_new_conv_layer(x_shaped,1,32,[5,5],[2,2],name='layer1')\n",
    "layer2 = create_new_conv_layer(layer1,32,64,[5,5],[2,2],name='layer2')"
   ]
  },
  {
   "cell_type": "code",
   "execution_count": 4,
   "metadata": {
    "collapsed": true
   },
   "outputs": [],
   "source": [
    "flattened = tf.reshape(layer2, [-1,7*7*64])\n",
    "\n",
    "wd1 = tf.Variable(tf.truncated_normal([7*7*64,1000],stddev=0.03),\n",
    "                 name='wd1')\n",
    "bd1 = tf.Variable(tf.truncated_normal([1000],stddev=0.01),name='bd1')\n",
    "dense_layer1 = tf.matmul(flattened,wd1) + bd1\n",
    "dense_layer1 = tf.nn.relu(dense_layer1)"
   ]
  },
  {
   "cell_type": "code",
   "execution_count": 5,
   "metadata": {
    "collapsed": true
   },
   "outputs": [],
   "source": [
    "wd2 = tf.Variable(tf.truncated_normal([1000,10],stddev=0.03),name='wd2')\n",
    "bd2 = tf.Variable(tf.truncated_normal([10],stddev=0.01),name='bd2')\n",
    "dense_layer2 = tf.matmul(dense_layer1,wd2) + bd2\n",
    "y_ = tf.nn.softmax(dense_layer2)"
   ]
  },
  {
   "cell_type": "code",
   "execution_count": 6,
   "metadata": {
    "collapsed": true
   },
   "outputs": [],
   "source": [
    "cross_entropy = tf.reduce_mean(tf.nn.softmax_cross_entropy_with_logits(logits=dense_layer2,labels=y))\n"
   ]
  },
  {
   "cell_type": "code",
   "execution_count": null,
   "metadata": {
    "collapsed": true
   },
   "outputs": [],
   "source": [
    "optimiser = tf.train.AdamOptimizer(learning_rate=learning_rate).minimize(cross_entropy)\n",
    "\n",
    "correct_prediction = tf.equal(tf.argmax(y,1),tf.argmax(y_,1))\n",
    "accuracy = tf.reduce_mean(tf.cast(correct_prediction,tf.float32))\n",
    "\n",
    "init_op = tf.global_variables_initializer()\n",
    "\n",
    "with tf.Session() as sess:\n",
    "    \n",
    "    sess.run(init_op)\n",
    "    total_batch = int(len(mnist.train.labels) / batch_size)\n",
    "    for epoch in range(epochs):\n",
    "        avg_cost = 0\n",
    "        for i in range(total_batch):\n",
    "            batch_x, batch_y = mnist.train.next_batch(batch_size=batch_size)\n",
    "            _,c = sess.run([optimiser,cross_entropy],\n",
    "                          feed_dict = {x:batch_x,y:batch_y})\n",
    "            avg_cost += c / total_batch\n",
    "        test_acc = sess.run(accuracy,\n",
    "                           feed_dict={x:mnist.test.images,y:mnist.test.labels})\n",
    "        print(\"Epoch:\", (epoch+1),\"cost=\",\"{:.3f}\".format(avg_cost),\n",
    "            \"test_accuracy :{:.3f}\".format(test_acc))\n",
    "    print(\"\\nTraining Complete\")\n",
    "    print(sess.run(accuracy,feed_dict={x:mnist.test.images,y: mnist.test.labels}))"
   ]
  },
  {
   "cell_type": "code",
   "execution_count": null,
   "metadata": {
    "collapsed": true
   },
   "outputs": [],
   "source": []
  }
 ],
 "metadata": {
  "kernelspec": {
   "display_name": "Python 3",
   "language": "python",
   "name": "python3"
  },
  "language_info": {
   "codemirror_mode": {
    "name": "ipython",
    "version": 3
   },
   "file_extension": ".py",
   "mimetype": "text/x-python",
   "name": "python",
   "nbconvert_exporter": "python",
   "pygments_lexer": "ipython3",
   "version": "3.6.3"
  }
 },
 "nbformat": 4,
 "nbformat_minor": 2
}
