{
 "cells": [
  {
   "cell_type": "code",
   "execution_count": 2,
   "metadata": {},
   "outputs": [
    {
     "name": "stdout",
     "output_type": "stream",
     "text": [
      "Extracting MNIST_data/train-images-idx3-ubyte.gz\n",
      "Extracting MNIST_data/train-labels-idx1-ubyte.gz\n",
      "Extracting MNIST_data/t10k-images-idx3-ubyte.gz\n",
      "Extracting MNIST_data/t10k-labels-idx1-ubyte.gz\n"
     ]
    }
   ],
   "source": [
    "import tensorflow as tf\n",
    "import numpy as np\n",
    "%matplotlib inline\n",
    "import pylab\n",
    "\n",
    "\n",
    "from tensorflow.examples.tutorials.mnist import input_data\n",
    "mnist = input_data.read_data_sets(\"MNIST_data/\",one_hot=True)"
   ]
  },
  {
   "cell_type": "code",
   "execution_count": 64,
   "metadata": {
    "collapsed": true
   },
   "outputs": [],
   "source": [
    "learning_rate = 0.5\n",
    "epochs = 30\n",
    "batch_size = 100\n",
    "\n",
    "\n",
    "x = tf.placeholder(tf.float32, [None, 784])\n",
    "\n",
    "y = tf.placeholder(tf.float32, [None, 10])"
   ]
  },
  {
   "cell_type": "code",
   "execution_count": 65,
   "metadata": {
    "collapsed": true
   },
   "outputs": [],
   "source": [
    "W1 = tf.Variable(tf.random_normal([784, 300], stddev=0.03), name = 'W1')\n",
    "b1 = tf.Variable(tf.random_normal([300]), name = 'b1')\n",
    "\n",
    "W2 = tf.Variable(tf.random_normal([300, 10], stddev=0.03), name ='W2')\n",
    "b2 = tf.Variable(tf.random_normal([10]), name='b2')"
   ]
  },
  {
   "cell_type": "code",
   "execution_count": 66,
   "metadata": {
    "collapsed": true
   },
   "outputs": [],
   "source": [
    "hidden_out = tf.add(tf.matmul(x,W1),b1)\n",
    "hidden_out = tf.nn.relu(hidden_out)\n",
    "\n",
    "\n",
    "y_ = tf.nn.softmax(tf.add(tf.matmul(hidden_out, W2), b2))"
   ]
  },
  {
   "cell_type": "code",
   "execution_count": 67,
   "metadata": {
    "collapsed": true
   },
   "outputs": [],
   "source": [
    "y_clipped = tf.clip_by_value(y_,1e-10,0.9999999)\n",
    "cross_entropy = -tf.reduce_mean(tf.reduce_sum(y * tf.log(y_clipped) + (1-y) * tf.log(1 - y_clipped),axis = 1))"
   ]
  },
  {
   "cell_type": "code",
   "execution_count": 68,
   "metadata": {
    "collapsed": true
   },
   "outputs": [],
   "source": [
    "optimiser = tf.train.GradientDescentOptimizer(learning_rate=learning_rate).minimize(cross_entropy)\n"
   ]
  },
  {
   "cell_type": "code",
   "execution_count": 69,
   "metadata": {
    "collapsed": true
   },
   "outputs": [],
   "source": [
    "init_op = tf.global_variables_initializer()\n",
    "\n",
    "correct_prediction = tf.equal(tf.argmax(y,1), tf.argmax(y_,1))\n",
    "accuracy = tf.reduce_mean(tf.cast(correct_prediction, tf.float32))"
   ]
  },
  {
   "cell_type": "code",
   "execution_count": 62,
   "metadata": {
    "scrolled": true
   },
   "outputs": [
    {
     "name": "stdout",
     "output_type": "stream",
     "text": [
      "Epoch: 1 cost= 0.554\n",
      "0.954\n",
      "Epoch: 2 cost= 0.208\n",
      "0.9677\n",
      "Epoch: 3 cost= 0.149\n",
      "0.9732\n",
      "Epoch: 4 cost= 0.114\n",
      "0.9745\n",
      "Epoch: 5 cost= 0.088\n",
      "0.974\n",
      "Epoch: 6 cost= 0.071\n",
      "0.974\n",
      "Epoch: 7 cost= 0.057\n",
      "0.9769\n",
      "Epoch: 8 cost= 0.046\n",
      "0.9775\n",
      "Epoch: 9 cost= 0.035\n",
      "0.9788\n",
      "Epoch: 10 cost= 0.027\n",
      "0.9796\n",
      "Epoch: 11 cost= 0.020\n",
      "0.9766\n",
      "Epoch: 12 cost= 0.015\n",
      "0.981\n",
      "Epoch: 13 cost= 0.011\n",
      "0.9792\n",
      "Epoch: 14 cost= 0.008\n",
      "0.9812\n",
      "Epoch: 15 cost= 0.006\n",
      "0.9806\n",
      "Epoch: 16 cost= 0.004\n",
      "0.9807\n",
      "Epoch: 17 cost= 0.003\n",
      "0.9809\n",
      "Epoch: 18 cost= 0.003\n",
      "0.9814\n",
      "Epoch: 19 cost= 0.002\n",
      "0.9807\n",
      "Epoch: 20 cost= 0.002\n",
      "0.9807\n",
      "Epoch: 21 cost= 0.002\n",
      "0.981\n",
      "Epoch: 22 cost= 0.002\n",
      "0.9807\n",
      "Epoch: 23 cost= 0.002\n",
      "0.9808\n",
      "Epoch: 24 cost= 0.001\n",
      "0.9809\n",
      "Epoch: 25 cost= 0.001\n",
      "0.981\n"
     ]
    }
   ],
   "source": [
    "with tf.Session() as sess:\n",
    "    \n",
    "    sess.run(init_op)\n",
    "    total_batch = int(len(mnist.train.labels) / batch_size)\n",
    "    for epoch in range(epochs):\n",
    "        avg_cost = 0\n",
    "        for i in range(total_batch):\n",
    "            batch_x, batch_y = mnist.train.next_batch(batch_size= batch_size)\n",
    "            p,c = sess.run([optimiser, cross_entropy],\n",
    "                          feed_dict = {x : batch_x, y: batch_y})\n",
    "            avg_cost += c / total_batch\n",
    "        print(\"Epoch:\",(epoch + 1),\"cost=\",\"{:.3f}\".format(avg_cost))\n",
    "        print(sess.run(accuracy,feed_dict={x:mnist.test.images, y:mnist.test.labels}))"
   ]
  },
  {
   "cell_type": "code",
   "execution_count": null,
   "metadata": {},
   "outputs": [],
   "source": []
  },
  {
   "cell_type": "code",
   "execution_count": null,
   "metadata": {
    "collapsed": true
   },
   "outputs": [],
   "source": []
  }
 ],
 "metadata": {
  "kernelspec": {
   "display_name": "Python 3",
   "language": "python",
   "name": "python3"
  },
  "language_info": {
   "codemirror_mode": {
    "name": "ipython",
    "version": 3
   },
   "file_extension": ".py",
   "mimetype": "text/x-python",
   "name": "python",
   "nbconvert_exporter": "python",
   "pygments_lexer": "ipython3",
   "version": "3.6.3"
  }
 },
 "nbformat": 4,
 "nbformat_minor": 2
}
