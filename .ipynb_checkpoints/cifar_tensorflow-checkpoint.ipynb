{
 "cells": [
  {
   "cell_type": "code",
   "execution_count": 1,
   "metadata": {
    "collapsed": true
   },
   "outputs": [],
   "source": [
    "import numpy as np\n",
    "import tensorflow as tf\n",
    "%matplotlib inline\n",
    "import matplotlib.pylab as plt\n"
   ]
  },
  {
   "cell_type": "code",
   "execution_count": 2,
   "metadata": {
    "collapsed": true
   },
   "outputs": [],
   "source": [
    "def unpickle(file):\n",
    "    import pickle\n",
    "    with open(file,'rb') as fo:\n",
    "        dict = pickle.load(fo,encoding='bytes')\n",
    "    return dict"
   ]
  },
  {
   "cell_type": "code",
   "execution_count": 4,
   "metadata": {
    "collapsed": true
   },
   "outputs": [],
   "source": [
    "batch_1 = unpickle(\"data_batch_1\")\n",
    "batch_2 = unpickle(\"data_batch_2\")\n",
    "batch_3 = unpickle(\"data_batch_3\")\n",
    "batch_4 = unpickle(\"data_batch_4\")\n",
    "batch_5 = unpickle(\"data_batch_5\")\n",
    "test_batch = unpickle(\"test_batch\")\n"
   ]
  },
  {
   "cell_type": "code",
   "execution_count": 14,
   "metadata": {
    "collapsed": true
   },
   "outputs": [],
   "source": [
    "X_train= batch_1[b'data']\n",
    "Y_train = batch_1[b'labels']\n",
    "X_test = test_batch[b'data']\n",
    "Y_test = test_batch[b'labels']\n",
    "batch_label = batch_1[b'batch_label']\n",
    "Y_train = tf.one_hot(Y_train,10)\n",
    "Y_test = tf.one_hot(Y_test,10)\n",
    "X_train = tf.cast(X_train,tf.float32)\n",
    "X_test = tf.cast(X_test,tf.float32)\n",
    "sess = tf.Session()\n",
    "X_train = X_train.eval(session=sess)\n",
    "X_test = X_test.eval(session=sess)\n",
    "Y_train = Y_train.eval(session=sess)\n",
    "Y_test = Y_test.eval(session=sess)\n"
   ]
  },
  {
   "cell_type": "code",
   "execution_count": 6,
   "metadata": {
    "collapsed": true
   },
   "outputs": [],
   "source": [
    "learning_rate = 0.0001\n",
    "epochs = 10\n",
    "x = tf.placeholder(tf.float32,[None,3072])\n",
    "x_shaped = tf.reshape(x,[-1,32,32,3])\n",
    "y = tf.placeholder(tf.float32,[None,10])"
   ]
  },
  {
   "cell_type": "code",
   "execution_count": 7,
   "metadata": {
    "collapsed": true
   },
   "outputs": [],
   "source": [
    "def create_new_conv_layer(input_data,num_input_channels,num_filters,filter_shape,pool_shape,name):\n",
    "    conv_filt_shape = [filter_shape[0],filter_shape[1],num_input_channels,num_filters]\n",
    "    weights = tf.Variable(tf.truncated_normal(conv_filt_shape,stddev=0.03),name=name+'_W')\n",
    "    bias = tf.Variable(tf.truncated_normal([num_filters]),name=name+'_b')\n",
    "    out_layer = tf.nn.conv2d(input_data,weights,[1,1,1,1],padding='SAME')\n",
    "    out_layer += bias\n",
    "    out_layer = tf.nn.relu(out_layer)\n",
    "    ksize = [1,pool_shape[0],pool_shape[1],1]\n",
    "    strides = [1,2,2,1]\n",
    "    out_layer = tf.nn.max_pool(out_layer,ksize=ksize,strides=strides,\n",
    "                              padding='SAME')\n",
    "    return out_layer"
   ]
  },
  {
   "cell_type": "code",
   "execution_count": 8,
   "metadata": {
    "collapsed": true
   },
   "outputs": [],
   "source": [
    "layer1 = create_new_conv_layer(x_shaped,3,32,[5,5],[2,2],name='layer1')\n",
    "layer2 = create_new_conv_layer(layer1,32,64,[5,5],[2,2],name='layer2')\n",
    "layer3 = create_new_conv_layer(layer2,64,128,[5,5],[2,2],name='layer3')"
   ]
  },
  {
   "cell_type": "code",
   "execution_count": 9,
   "metadata": {
    "collapsed": true
   },
   "outputs": [],
   "source": [
    "flattened = tf.reshape(layer2,[-1,8*8*64])\n",
    "\n",
    "wd1 = tf.Variable(tf.truncated_normal([8*8*64,1000],stddev=0.03),\n",
    "                 name='wd1')\n",
    "bd1 = tf.Variable(tf.truncated_normal([1000],stddev=0.01),name='bd1')\n",
    "dense_layer1 = tf.matmul(flattened,wd1) + bd1\n",
    "dense_layer1 = tf.nn.relu(dense_layer1)\n",
    "\n",
    "\n",
    "wd2 = tf.Variable(tf.truncated_normal([1000,10],stddev=0.03),\n",
    "                 name='wd2')\n",
    "bd2 = tf.Variable(tf.truncated_normal([10],stddev=0.01),name='bd2')\n",
    "dense_layer2 = tf.matmul(dense_layer1,wd2) + bd2\n",
    "y_ = tf.nn.softmax(dense_layer2)\n"
   ]
  },
  {
   "cell_type": "code",
   "execution_count": 10,
   "metadata": {
    "collapsed": true
   },
   "outputs": [],
   "source": [
    "cross_entropy = tf.reduce_mean(tf.nn.softmax_cross_entropy_with_logits(logits=dense_layer2,labels=y))"
   ]
  },
  {
   "cell_type": "code",
   "execution_count": 11,
   "metadata": {},
   "outputs": [
    {
     "ename": "TypeError",
     "evalue": "The value of a feed cannot be a tf.Tensor object. Acceptable feed values include Python scalars, strings, lists, numpy ndarrays, or TensorHandles.",
     "output_type": "error",
     "traceback": [
      "\u001b[0;31m---------------------------------------------------------------------------\u001b[0m",
      "\u001b[0;31mTypeError\u001b[0m                                 Traceback (most recent call last)",
      "\u001b[0;32m<ipython-input-11-ccbb7b61f23c>\u001b[0m in \u001b[0;36m<module>\u001b[0;34m()\u001b[0m\n\u001b[1;32m     11\u001b[0m         \u001b[0mavg_cost\u001b[0m \u001b[0;34m=\u001b[0m \u001b[0;36m0\u001b[0m\u001b[0;34m\u001b[0m\u001b[0m\n\u001b[1;32m     12\u001b[0m         p,c = sess.run([optimiser,cross_entropy],\n\u001b[0;32m---> 13\u001b[0;31m                       feed_dict = {x:X_train,y:Y_train})\n\u001b[0m\u001b[1;32m     14\u001b[0m         \u001b[0mavg_cost\u001b[0m \u001b[0;34m+=\u001b[0m \u001b[0mc\u001b[0m\u001b[0;34m\u001b[0m\u001b[0m\n\u001b[1;32m     15\u001b[0m         test_acc = sess.run(accuracy,\n",
      "\u001b[0;32m~/anaconda3/lib/python3.6/site-packages/tensorflow/python/client/session.py\u001b[0m in \u001b[0;36mrun\u001b[0;34m(self, fetches, feed_dict, options, run_metadata)\u001b[0m\n\u001b[1;32m    893\u001b[0m     \u001b[0;32mtry\u001b[0m\u001b[0;34m:\u001b[0m\u001b[0;34m\u001b[0m\u001b[0m\n\u001b[1;32m    894\u001b[0m       result = self._run(None, fetches, feed_dict, options_ptr,\n\u001b[0;32m--> 895\u001b[0;31m                          run_metadata_ptr)\n\u001b[0m\u001b[1;32m    896\u001b[0m       \u001b[0;32mif\u001b[0m \u001b[0mrun_metadata\u001b[0m\u001b[0;34m:\u001b[0m\u001b[0;34m\u001b[0m\u001b[0m\n\u001b[1;32m    897\u001b[0m         \u001b[0mproto_data\u001b[0m \u001b[0;34m=\u001b[0m \u001b[0mtf_session\u001b[0m\u001b[0;34m.\u001b[0m\u001b[0mTF_GetBuffer\u001b[0m\u001b[0;34m(\u001b[0m\u001b[0mrun_metadata_ptr\u001b[0m\u001b[0;34m)\u001b[0m\u001b[0;34m\u001b[0m\u001b[0m\n",
      "\u001b[0;32m~/anaconda3/lib/python3.6/site-packages/tensorflow/python/client/session.py\u001b[0m in \u001b[0;36m_run\u001b[0;34m(self, handle, fetches, feed_dict, options, run_metadata)\u001b[0m\n\u001b[1;32m   1072\u001b[0m \u001b[0;34m\u001b[0m\u001b[0m\n\u001b[1;32m   1073\u001b[0m           \u001b[0;32mif\u001b[0m \u001b[0misinstance\u001b[0m\u001b[0;34m(\u001b[0m\u001b[0msubfeed_val\u001b[0m\u001b[0;34m,\u001b[0m \u001b[0mops\u001b[0m\u001b[0;34m.\u001b[0m\u001b[0mTensor\u001b[0m\u001b[0;34m)\u001b[0m\u001b[0;34m:\u001b[0m\u001b[0;34m\u001b[0m\u001b[0m\n\u001b[0;32m-> 1074\u001b[0;31m             raise TypeError('The value of a feed cannot be a tf.Tensor object. '\n\u001b[0m\u001b[1;32m   1075\u001b[0m                             \u001b[0;34m'Acceptable feed values include Python scalars, '\u001b[0m\u001b[0;34m\u001b[0m\u001b[0m\n\u001b[1;32m   1076\u001b[0m                             'strings, lists, numpy ndarrays, or TensorHandles.')\n",
      "\u001b[0;31mTypeError\u001b[0m: The value of a feed cannot be a tf.Tensor object. Acceptable feed values include Python scalars, strings, lists, numpy ndarrays, or TensorHandles."
     ]
    }
   ],
   "source": [
    "optimiser = tf.train.AdadeltaOptimizer(learning_rate=learning_rate).minimize(cross_entropy)\n",
    "\n",
    "correct_prediction = tf.equal(tf.argmax(y,1),tf.argmax(y_,1))\n",
    "accuracy = tf.reduce_mean(tf.cast(correct_prediction,tf.float32))\n",
    "\n",
    "init_op = tf.global_variables_initializer()\n",
    "\n",
    "with tf.Session() as sess:\n",
    "    sess.run(init_op)\n",
    "    for epoch in range(epochs):\n",
    "        avg_cost = 0\n",
    "        p,c = sess.run([optimiser,cross_entropy],\n",
    "                      feed_dict = {x:X_train,y:Y_train})\n",
    "        avg_cost += c\n",
    "        test_acc = sess.run(accuracy,\n",
    "                           feed_dict={x:X_test,y:Y_test})\n",
    "        print(\"Epoch:\", (epoch+1),\"cost=\",\"{:.3f}\".format(avg_cost),\n",
    "            \"test_accuracy :{:.3f}\".format(test_acc))\n",
    "    \n",
    "    print(\"\\nTraining Complete\")\n",
    "    print(sess.run(accuracy,feed_dict={x:X_test,y: Y_test}))"
   ]
  },
  {
   "cell_type": "code",
   "execution_count": null,
   "metadata": {
    "collapsed": true
   },
   "outputs": [],
   "source": []
  },
  {
   "cell_type": "code",
   "execution_count": null,
   "metadata": {
    "collapsed": true
   },
   "outputs": [],
   "source": []
  }
 ],
 "metadata": {
  "kernelspec": {
   "display_name": "Python 3",
   "language": "python",
   "name": "python3"
  },
  "language_info": {
   "codemirror_mode": {
    "name": "ipython",
    "version": 3
   },
   "file_extension": ".py",
   "mimetype": "text/x-python",
   "name": "python",
   "nbconvert_exporter": "python",
   "pygments_lexer": "ipython3",
   "version": "3.6.3"
  }
 },
 "nbformat": 4,
 "nbformat_minor": 2
}
